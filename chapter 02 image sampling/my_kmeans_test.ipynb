{
 "cells": [
  {
   "cell_type": "markdown",
   "metadata": {},
   "source": [
    "# KMeans算法示例\n",
    "\n",
    "这里主要使用了dict数据结构"
   ]
  },
  {
   "cell_type": "code",
   "execution_count": 76,
   "metadata": {},
   "outputs": [],
   "source": [
    "import numpy as np\n",
    "\n",
    "k = 3\n",
    "N = 100\n",
    "iter_max = 100\n",
    "tolerance = 1e-4\n",
    "\n",
    "data = np.random.randn(N,2)\n",
    "\n",
    "centers = {}\n",
    "cluster = {}\n",
    "for i in range(k):\n",
    "    centers[i] = data[i,:]\n",
    "    cluster[i] = []"
   ]
  },
  {
   "cell_type": "code",
   "execution_count": 77,
   "metadata": {},
   "outputs": [],
   "source": [
    "def clustering(data,centers):\n",
    "    N = data.shape[0]\n",
    "    k = len(centers)\n",
    "    for i in range(k):\n",
    "        cluster[i] = []\n",
    "        \n",
    "    for i in range(N):\n",
    "        distances = [np.linalg.norm(data[i,:]-centers[j]) for j in range(k)]\n",
    "        indx = distances.index(min(distances))\n",
    "        cluster[indx].append(data[i,:])\n",
    "    \n",
    "    for i in range(k):\n",
    "        centers[i] = np.average(cluster[i],axis=0)\n",
    "    return centers"
   ]
  },
  {
   "cell_type": "code",
   "execution_count": 78,
   "metadata": {},
   "outputs": [],
   "source": [
    "def continue_iteration(old,new,tolerance):\n",
    "    optimized = True\n",
    "    for center in old:\n",
    "        org_center = old[center]\n",
    "        cur_center = new[center]\n",
    "        if np.sum(np.abs((cur_center - org_center) / org_center)) > tolerance:\n",
    "                    optimized = False\n",
    "    return optimized"
   ]
  },
  {
   "cell_type": "code",
   "execution_count": 79,
   "metadata": {},
   "outputs": [
    {
     "name": "stdout",
     "output_type": "stream",
     "text": [
      "iteraion =  9\n"
     ]
    }
   ],
   "source": [
    "for m in range(iter_max):\n",
    "    old_centers = dict(centers)\n",
    "    centers = clustering(data,centers)\n",
    "    if continue_iteration(old_centers,centers,tolerance):\n",
    "        break\n",
    "\n",
    "print(\"iteraion = \", m+1)"
   ]
  },
  {
   "cell_type": "code",
   "execution_count": 80,
   "metadata": {},
   "outputs": [
    {
     "data": {
      "image/png": "[encoded data removed]",
      "text/plain": [
       "<Figure size 432x288 with 1 Axes>"
      ]
     },
     "metadata": {
      "needs_background": "light"
     },
     "output_type": "display_data"
    },
    {
     "data": {
      "text/plain": [
       "array([[-0.37925382, -0.66166309],\n",
       "       [-1.29884862,  0.91859448],\n",
       "       [ 0.86014064,  0.40134284]])"
      ]
     },
     "execution_count": 80,
     "metadata": {},
     "output_type": "execute_result"
    }
   ],
   "source": [
    "import matplotlib.pyplot as plt\n",
    "%matplotlib inline\n",
    "\n",
    "plt.scatter(data[:,0],data[:,1])\n",
    "center = np.array( tuple(centers.values()))\n",
    "plt.scatter(center[:,0],center[:,1],s=200)\n",
    "plt.show()\n",
    "center"
   ]
  },
  {
   "cell_type": "code",
   "execution_count": null,
   "metadata": {},
   "outputs": [],
   "source": []
  }
 ],
 "metadata": {
  "kernelspec": {
   "display_name": "Python(dip)",
   "language": "python",
   "name": "image_processing"
  },
  "language_info": {
   "codemirror_mode": {
    "name": "ipython",
    "version": 3
   },
   "file_extension": ".py",
   "mimetype": "text/x-python",
   "name": "python",
   "nbconvert_exporter": "python",
   "pygments_lexer": "ipython3",
   "version": "3.7.4"
  }
 },
 "nbformat": 4,
 "nbformat_minor": 2
}
