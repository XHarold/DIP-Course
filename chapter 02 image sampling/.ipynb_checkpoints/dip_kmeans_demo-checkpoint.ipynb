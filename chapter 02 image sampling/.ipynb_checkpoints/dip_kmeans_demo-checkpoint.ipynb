{
 "cells": [
  {
   "cell_type": "markdown",
   "metadata": {},
   "source": [
    "# 使用Python实现K-Means算法\n",
    "\n",
    "K-Means聚类算法主要分为三个步骤：\n",
    "\n",
    "* 第一步是为待聚类的点随机寻找聚类中心\n",
    "* 第二步是计算每个点到聚类中心的距离，将各个点归类到离该点最近的聚类中去\n",
    "* 第三步是计算每个聚类中所有点的坐标平均值，并将这个平均值作为新的聚类中心，反复执行(2)、(3)，直到聚类中心不再进行大范围移动或者聚类次数达到要求为止"
   ]
  },
  {
   "cell_type": "code",
   "execution_count": 1,
   "metadata": {},
   "outputs": [],
   "source": [
    "# -*- coding:utf-8 -*-\n",
    "import numpy as np\n",
    "import matplotlib.pyplot as plt\n",
    "%matplotlib inline"
   ]
  },
  {
   "cell_type": "code",
   "execution_count": 2,
   "metadata": {},
   "outputs": [],
   "source": [
    "class K_Means(object):\n",
    "    # k是分组数\n",
    "    # tolerance 中心点误差\n",
    "    # max_iter 最大迭代次数\n",
    "    def __init__(self, k=2, tolerance=0.0001, max_iter=300):\n",
    "        self.k_ = k\n",
    "        self.tolerance_ = tolerance\n",
    "        self.max_iter_ = max_iter\n",
    "\n",
    "    def fit(self, data):\n",
    "        self.centers_ = {}\n",
    "        for i in range(self.k_):\n",
    "            self.centers_[i] = data[i]\n",
    "\n",
    "        for i in range(self.max_iter_):\n",
    "            self.clf_ = {}\n",
    "            for i in range(self.k_):\n",
    "                self.clf_[i] = []\n",
    "\n",
    "            for feature in data:\n",
    "                # distances = [np.linalg.norm(feature-self.centers[center]) for center in self.centers]\n",
    "                distances = []\n",
    "                for center in self.centers_:\n",
    "                    # 欧拉距离\n",
    "                    # np.sqrt(np.sum((features-self.centers_[center])**2))\n",
    "                    distances.append(np.linalg.norm(feature - self.centers_[center]))\n",
    "                classification = distances.index(min(distances))\n",
    "                self.clf_[classification].append(feature)\n",
    "\n",
    "            prev_centers = dict(self.centers_)\n",
    "            for c in self.clf_:\n",
    "                self.centers_[c] = np.average(self.clf_[c], axis=0)\n",
    "\n",
    "            # '中心点'是否在误差范围\n",
    "            optimized = True\n",
    "            for center in self.centers_:\n",
    "                org_centers = prev_centers[center]\n",
    "                cur_centers = self.centers_[center]\n",
    "                if np.sum((cur_centers - org_centers) / org_centers * 100.0) > self.tolerance_:\n",
    "                    optimized = False\n",
    "            if optimized:\n",
    "                break\n",
    "\n",
    "    def predict(self, p_data):\n",
    "        distances = [np.linalg.norm(p_data - self.centers_[center]) for center in self.centers_]\n",
    "        index = distances.index(min(distances))\n",
    "        return index"
   ]
  },
  {
   "cell_type": "code",
   "execution_count": 4,
   "metadata": {},
   "outputs": [
    {
     "name": "stdout",
     "output_type": "stream",
     "text": [
      "{0: array([1.16666667, 1.46666667]), 1: array([7.33333333, 9.        ])}\n"
     ]
    },
    {
     "data": {
      "image/png": "[encoded data removed]",
      "text/plain": [
       "<Figure size 432x288 with 1 Axes>"
      ]
     },
     "metadata": {
      "needs_background": "light"
     },
     "output_type": "display_data"
    }
   ],
   "source": [
    "x = np.array([[1, 2], [1.5, 1.8], [5, 8], [8, 8], [1, 0.6], [9, 11]])\n",
    "k_means = K_Means(k=2)\n",
    "k_means.fit(x)\n",
    "print(k_means.centers_)\n",
    "\n",
    "for center in k_means.centers_:\n",
    "    plt.scatter(k_means.centers_[center][0], k_means.centers_[center][1], marker='*', s=150)\n",
    "\n",
    "for cat in k_means.clf_:\n",
    "    for point in k_means.clf_[cat]:\n",
    "        plt.scatter(point[0], point[1], c=('r' if cat == 0 else 'b'))\n",
    "\n",
    "predict = [[2, 1], [6, 9]]\n",
    "for feature in predict:\n",
    "    cat = k_means.predict(predict)\n",
    "    plt.scatter(feature[0], feature[1], c=('r' if cat == 0 else 'b'), marker='x')\n",
    "\n",
    "plt.show()"
   ]
  },
  {
   "cell_type": "code",
   "execution_count": null,
   "metadata": {},
   "outputs": [],
   "source": []
  }
 ],
 "metadata": {
  "kernelspec": {
   "display_name": "Python(dip)",
   "language": "python",
   "name": "image_processing"
  },
  "language_info": {
   "codemirror_mode": {
    "name": "ipython",
    "version": 3
   },
   "file_extension": ".py",
   "mimetype": "text/x-python",
   "name": "python",
   "nbconvert_exporter": "python",
   "pygments_lexer": "ipython3",
   "version": "3.7.4"
  }
 },
 "nbformat": 4,
 "nbformat_minor": 2
}
