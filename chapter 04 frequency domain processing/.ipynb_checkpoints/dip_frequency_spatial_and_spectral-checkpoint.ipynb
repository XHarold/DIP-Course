{
 "cells": [
  {
   "cell_type": "code",
   "execution_count": 35,
   "metadata": {},
   "outputs": [],
   "source": [
    "import numpy as np\n",
    "import matplotlib.pyplot as plt\n",
    "from skimage import io\n",
    "import scipy.signal as signal\n",
    "\n",
    "%matplotlib inline"
   ]
  },
  {
   "cell_type": "code",
   "execution_count": 36,
   "metadata": {},
   "outputs": [
    {
     "data": {
      "text/plain": [
       "Text(0.5, 1.0, 'Original')"
      ]
     },
     "execution_count": 36,
     "metadata": {},
     "output_type": "execute_result"
    },
    {
     "data": {
      "image/png": "[encoded data removed]",
      "text/plain": [
       "<Figure size 432x288 with 1 Axes>"
      ]
     },
     "metadata": {
      "needs_background": "light"
     },
     "output_type": "display_data"
    }
   ],
   "source": [
    "N = 256\n",
    "N_half = 128\n",
    "img = np.zeros((N,N))\n",
    "img[0:N_half,:] = 255\n",
    "\n",
    "plt.imshow(img,plt.cm.gray)\n",
    "plt.title('Original')"
   ]
  },
  {
   "cell_type": "code",
   "execution_count": 37,
   "metadata": {},
   "outputs": [
    {
     "data": {
      "text/plain": [
       "(-0.5, 255.5, 255.5, -0.5)"
      ]
     },
     "execution_count": 37,
     "metadata": {},
     "output_type": "execute_result"
    },
    {
     "data": {
      "image/png": "[encoded data removed]",
      "text/plain": [
       "<Figure size 432x288 with 2 Axes>"
      ]
     },
     "metadata": {
      "needs_background": "light"
     },
     "output_type": "display_data"
    }
   ],
   "source": [
    "M = 11\n",
    "M_half = 5\n",
    "win = np.ones((M,M))\n",
    "spatial_filtering_zero = signal.convolve2d(img, win, mode=\"same\", boundary='fill', fillvalue=0)\n",
    "spatial_filtering_wrap = signal.convolve2d(img, win, mode=\"same\", boundary=\"wrap\")\n",
    "plt.subplot(121)\n",
    "plt.imshow(spatial_filtering_zero,plt.cm.gray)\n",
    "plt.title('Zero Padding')\n",
    "plt.axis('off')\n",
    "plt.subplot(122)\n",
    "plt.imshow(spatial_filtering_wrap,plt.cm.gray)\n",
    "plt.title('Wrap Mode')\n",
    "plt.axis('off')"
   ]
  },
  {
   "cell_type": "code",
   "execution_count": 38,
   "metadata": {},
   "outputs": [
    {
     "data": {
      "text/plain": [
       "(-0.5, 255.5, 255.5, -0.5)"
      ]
     },
     "execution_count": 38,
     "metadata": {},
     "output_type": "execute_result"
    },
    {
     "data": {
      "image/png": "[encoded data removed]",
      "text/plain": [
       "<Figure size 432x288 with 1 Axes>"
      ]
     },
     "metadata": {
      "needs_background": "light"
     },
     "output_type": "display_data"
    }
   ],
   "source": [
    "img_fft = np.fft.fft2(img)\n",
    "win_extend = np.zeros((N,N))\n",
    "win_extend[0:M,0:M] = win\n",
    "win_fft = np.fft.fft2(win_extend)\n",
    "img_out = np.fft.ifft2(img_fft*win_fft)\n",
    "plt.imshow(abs(img_out),plt.cm.gray)\n",
    "plt.axis('off')"
   ]
  },
  {
   "cell_type": "code",
   "execution_count": 39,
   "metadata": {},
   "outputs": [
    {
     "data": {
      "text/plain": [
       "(-0.5, 255.5, 255.5, -0.5)"
      ]
     },
     "execution_count": 39,
     "metadata": {},
     "output_type": "execute_result"
    },
    {
     "data": {
      "image/png": "[encoded data removed]",
      "text/plain": [
       "<Figure size 432x288 with 1 Axes>"
      ]
     },
     "metadata": {
      "needs_background": "light"
     },
     "output_type": "display_data"
    }
   ],
   "source": [
    "img_extend = np.zeros((2*N,2*N))\n",
    "win_extend = np.zeros((2*N,2*N))\n",
    "img_extend[0:N,0:N] = img\n",
    "win_extend[0:w,0:w] = win\n",
    "img_fft = np.fft.fft2(img_extend)\n",
    "win_fft = np.fft.fft2(win_extend)\n",
    "img_out = np.fft.ifft2(img_fft*win_fft)\n",
    "plt.imshow(abs(img_out[M_half:N+M_half,M_half:N+M_half]),plt.cm.gray)\n",
    "plt.axis('off')"
   ]
  },
  {
   "cell_type": "code",
   "execution_count": null,
   "metadata": {},
   "outputs": [],
   "source": []
  }
 ],
 "metadata": {
  "kernelspec": {
   "display_name": "Python 3",
   "language": "python",
   "name": "python3"
  },
  "language_info": {
   "codemirror_mode": {
    "name": "ipython",
    "version": 3
   },
   "file_extension": ".py",
   "mimetype": "text/x-python",
   "name": "python",
   "nbconvert_exporter": "python",
   "pygments_lexer": "ipython3",
   "version": "3.7.3"
  }
 },
 "nbformat": 4,
 "nbformat_minor": 2
}
