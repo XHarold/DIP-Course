{
 "cells": [
  {
   "cell_type": "markdown",
   "metadata": {},
   "source": [
    "对图像分别进行没有零填充的高斯低通滤波和零填充的高斯低通滤波并对比结果"
   ]
  },
  {
   "cell_type": "code",
   "execution_count": 9,
   "metadata": {},
   "outputs": [],
   "source": [
    "import numpy as np\n",
    "import matplotlib.pyplot as plt\n",
    "import math\n",
    "from skimage import io\n",
    "from scipy.fftpack import ifftshift\n",
    "from PIL import Image\n",
    "%matplotlib inline"
   ]
  },
  {
   "cell_type": "code",
   "execution_count": 10,
   "metadata": {},
   "outputs": [],
   "source": [
    "\n",
    "def cal_distance(pa,pb):\n",
    "    dis = math.sqrt((pa[0]-pb[0])**2+(pa[1]-pb[1])**2)\n",
    "    return dis\n",
    "\n",
    "def GaussianLowFilter(image,d):\n",
    "    f = np.fft.fft2(image)\n",
    "    fshift = np.fft.fftshift(f)\n",
    "    s1 = np.log(np.abs(fshift))\n",
    "    def make_transform_matrix(d):\n",
    "        transfor_matrix = np.zeros(image.shape)\n",
    "        center_point = tuple(map(lambda x:(x-1)/2,s1.shape))\n",
    "        for i in range(transfor_matrix.shape[0]):\n",
    "            for j in range(transfor_matrix.shape[1]):\n",
    "                dis = cal_distance(center_point,(i,j))\n",
    "                transfor_matrix[i,j] = np.exp(-(dis**2)/(2*(d**2)))\n",
    "        return transfor_matrix\n",
    "    d_matrix = make_transform_matrix(d)\n",
    "    new_img = np.abs(np.fft.ifft2(np.fft.ifftshift(fshift*d_matrix)))\n",
    "    return new_img\n",
    "\n",
    "def _pad(data, shape):\n",
    "    out = np.zeros(shape)\n",
    "    out[tuple(slice(0, n) for n in data.shape)] = data\n",
    "    return out\n",
    "\n",
    "def GaussianLowFilter_padded(image,d):\n",
    "    oshape=np.array(image.shape)*2-1\n",
    "    image=_pad(image,oshape)\n",
    "    f = np.fft.fft2(image)\n",
    "    fshift = np.fft.fftshift(f)\n",
    "    s1 = np.log(np.abs(fshift))\n",
    "    def make_transform_matrix(d):\n",
    "        transfor_matrix = np.zeros(oshape)\n",
    "        center_point = tuple(map(lambda x:(x-1)/2,s1.shape))\n",
    "        for i in range(transfor_matrix.shape[0]):\n",
    "            for j in range(transfor_matrix.shape[1]):\n",
    "                def cal_distance(pa,pb):\n",
    "                    from math import sqrt\n",
    "                    dis = sqrt((pa[0]-pb[0])**2+(pa[1]-pb[1])**2)\n",
    "                    return dis\n",
    "                dis = cal_distance(center_point,(i,j))\n",
    "                transfor_matrix[i,j] = np.exp(-(dis**2)/(2*(d**2)))\n",
    "        return transfor_matrix\n",
    "    d_matrix = make_transform_matrix(d)\n",
    "    new_img = np.abs(np.fft.ifft2(np.fft.ifftshift(fshift*d_matrix)))\n",
    "    return new_img"
   ]
  },
  {
   "cell_type": "code",
   "execution_count": 11,
   "metadata": {},
   "outputs": [
    {
     "name": "stderr",
     "output_type": "stream",
     "text": [
      "/Users/lixm/anaconda3/envs/dip/lib/python3.7/site-packages/ipykernel_launcher.py:8: RuntimeWarning: divide by zero encountered in log\n",
      "  \n"
     ]
    },
    {
     "data": {
      "text/plain": [
       "Text(0.5, 1.0, 'no-pad')"
      ]
     },
     "execution_count": 11,
     "metadata": {},
     "output_type": "execute_result"
    },
    {
     "data": {
      "image/png": "[encoded data removed]",
      "text/plain": [
       "<Figure size 432x288 with 2 Axes>"
      ]
     },
     "metadata": {
      "needs_background": "light"
     },
     "output_type": "display_data"
    }
   ],
   "source": [
    "img = io.imread('images/Fig0405.tif')\n",
    "\n",
    "#没有零填充的高斯低通滤波\n",
    "img_d1 = GaussianLowFilter(img,10)\n",
    "#零填充的高斯低通滤波\n",
    "img_d2 = GaussianLowFilter_padded(img,10)\n",
    "#对零填充的高斯低通滤波得到的图像进行裁剪\n",
    "cropped = img_d2[0:img.shape[0],0:img.shape[1]:]\n",
    "\n",
    "\n",
    "plt.subplot(121)\n",
    "plt.imshow(img,cmap=\"gray\")\n",
    "plt.title('original')\n",
    "plt.acorraxis('off')\n",
    "plt.subplot(122)\n",
    "plt.imshow(img_d1,cmap=\"gray\")\n",
    "plt.title('no-pad')\n",
    "plt('off')\n"
   ]
  },
  {
   "cell_type": "code",
   "execution_count": 13,
   "metadata": {},
   "outputs": [
    {
     "data": {
      "text/plain": [
       "Text(0.5, 1.0, 'cropped')"
      ]
     },
     "execution_count": 13,
     "metadata": {},
     "output_type": "execute_result"
    },
    {
     "data": {
      "image/png": "[encoded data removed]",
      "text/plain": [
       "<Figure size 432x288 with 2 Axes>"
      ]
     },
     "metadata": {
      "needs_background": "light"
     },
     "output_type": "display_data"
    }
   ],
   "source": [
    "plt.subplot(121)\n",
    "plt.imshow(img_d2,cmap=\"gray\")\n",
    "plt.title('full size')\n",
    "plt.subplot(122)\n",
    "plt.imshow(cropped,cmap=\"gray\")\n",
    "plt.title('cropped')"
   ]
  },
  {
   "cell_type": "code",
   "execution_count": null,
   "metadata": {},
   "outputs": [],
   "source": []
  }
 ],
 "metadata": {
  "kernelspec": {
   "display_name": "Python 3",
   "language": "python",
   "name": "python3"
  },
  "language_info": {
   "codemirror_mode": {
    "name": "ipython",
    "version": 3
   },
   "file_extension": ".py",
   "mimetype": "text/x-python",
   "name": "python",
   "nbconvert_exporter": "python",
   "pygments_lexer": "ipython3",
   "version": "3.7.3"
  }
 },
 "nbformat": 4,
 "nbformat_minor": 2
}
