{
 "cells": [
  {
   "cell_type": "markdown",
   "metadata": {},
   "source": [
    "# 仿射变换示例\n"
   ]
  },
  {
   "cell_type": "code",
   "execution_count": 25,
   "metadata": {},
   "outputs": [],
   "source": [
    "from skimage import io,transform,img_as_float\n",
    "import numpy as np\n",
    "import matplotlib.pyplot as plt\n",
    "%matplotlib inline"
   ]
  },
  {
   "cell_type": "markdown",
   "metadata": {},
   "source": [
    "## 平移"
   ]
  },
  {
   "cell_type": "code",
   "execution_count": 26,
   "metadata": {},
   "outputs": [
    {
     "data": {
      "text/plain": [
       "(-0.5, 511.5, 511.5, -0.5)"
      ]
     },
     "execution_count": 26,
     "metadata": {},
     "output_type": "execute_result"
    },
    {
     "data": {
      "image/png": "[encoded data removed]",
      "text/plain": [
       "<Figure size 432x288 with 2 Axes>"
      ]
     },
     "metadata": {
      "needs_background": "light"
     },
     "output_type": "display_data"
    }
   ],
   "source": [
    "img = io.imread('images/Fig0507(a)(checkeboard8_pixeldup_8).tif')\n",
    "tx = 100\n",
    "ty = 50\n",
    "T = transform.AffineTransform(translation=(tx,ty))\n",
    "\n",
    "res = transform.warp(img,T.inverse)\n",
    "plt.subplot(121)\n",
    "plt.imshow(img,cmap='gray')\n",
    "plt.title('Original')\n",
    "plt.axis('off')\n",
    "plt.subplot(122)\n",
    "plt.imshow(res,cmap='gray')\n",
    "plt.title('Translation')\n",
    "plt.axis('off')"
   ]
  },
  {
   "cell_type": "markdown",
   "metadata": {},
   "source": [
    "## 缩放"
   ]
  },
  {
   "cell_type": "code",
   "execution_count": 27,
   "metadata": {},
   "outputs": [
    {
     "data": {
      "text/plain": [
       "(-0.5, 511.5, 511.5, -0.5)"
      ]
     },
     "execution_count": 27,
     "metadata": {},
     "output_type": "execute_result"
    },
    {
     "data": {
      "image/png": "[encoded data removed]",
      "text/plain": [
       "<Figure size 432x288 with 2 Axes>"
      ]
     },
     "metadata": {
      "needs_background": "light"
     },
     "output_type": "display_data"
    }
   ],
   "source": [
    "sx = 1\n",
    "sy = 2\n",
    "S = transform.AffineTransform(scale=(sx,sy))\n",
    "res = transform.warp(img,S.inverse)\n",
    "plt.subplot(121)\n",
    "plt.imshow(img)\n",
    "plt.imshow(img,cmap='gray')\n",
    "plt.title('Original')\n",
    "plt.axis('off')\n",
    "plt.subplot(122)\n",
    "plt.imshow(res,cmap='gray')\n",
    "plt.title('Scaled')\n",
    "plt.axis('off')"
   ]
  },
  {
   "cell_type": "markdown",
   "metadata": {},
   "source": [
    "## 旋转"
   ]
  },
  {
   "cell_type": "code",
   "execution_count": 29,
   "metadata": {},
   "outputs": [
    {
     "data": {
      "text/plain": [
       "(-0.5, 511.5, 511.5, -0.5)"
      ]
     },
     "execution_count": 29,
     "metadata": {},
     "output_type": "execute_result"
    },
    {
     "data": {
      "image/png": "[encoded data removed]",
      "text/plain": [
       "<Figure size 432x288 with 2 Axes>"
      ]
     },
     "metadata": {
      "needs_background": "light"
     },
     "output_type": "display_data"
    }
   ],
   "source": [
    "tx = 256\n",
    "ty = -100\n",
    "T = transform.AffineTransform(translation=(tx,ty))\n",
    "R = transform.AffineTransform(rotation=np.deg2rad(30))\n",
    "res = transform.warp(img,(T+R).inverse)\n",
    "\n",
    "plt.subplot(121)\n",
    "plt.imshow(img,cmap='gray')\n",
    "plt.title('Original')\n",
    "plt.axis('off')\n",
    "plt.subplot(122)\n",
    "plt.imshow(res,cmap='gray')\n",
    "plt.title('Rotation')\n",
    "plt.axis('off')"
   ]
  },
  {
   "cell_type": "code",
   "execution_count": null,
   "metadata": {},
   "outputs": [],
   "source": []
  }
 ],
 "metadata": {
  "kernelspec": {
   "display_name": "Python 3",
   "language": "python",
   "name": "python3"
  },
  "language_info": {
   "codemirror_mode": {
    "name": "ipython",
    "version": 3
   },
   "file_extension": ".py",
   "mimetype": "text/x-python",
   "name": "python",
   "nbconvert_exporter": "python",
   "pygments_lexer": "ipython3",
   "version": "3.7.3"
  }
 },
 "nbformat": 4,
 "nbformat_minor": 2
}
